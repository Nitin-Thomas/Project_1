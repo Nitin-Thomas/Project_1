{
 "cells": [
  {
   "cell_type": "markdown",
   "id": "df89bd33-81c5-4e6f-b1b7-50996ac3ddbb",
   "metadata": {},
   "source": [
    "# Imports"
   ]
  },
  {
   "cell_type": "code",
   "execution_count": null,
   "id": "121389cc-e3b8-4c2b-bb5a-c72338d2b73c",
   "metadata": {},
   "outputs": [],
   "source": [
    "import os\n",
    "import requests\n",
    "import datetime as dt\n",
    "import pandas as pd\n",
    "from dotenv import load_dotenv\n",
    "import alpaca_trade_api as tradeapi\n",
    "from MCForecastTools import MCSimulation\n",
    "import json\n",
    "import numpy as np\n",
    "import yfinance as yf\n",
    "from pandas_datareader import data as pdr\n",
    "import seaborn as sns\n",
    "import plotly\n",
    "import plotly.graph_objects as go\n",
    "from plotly.subplots import make_subplots\n",
    "import plotly.express as px\n",
    "import matplotlib.pyplot as plt\n",
    "import math\n",
    "import statistics\n",
    "from MCForecastToolsedited import MCSimulation\n",
    "%matplotlib inline"
   ]
  },
  {
   "cell_type": "code",
   "execution_count": null,
   "id": "b170542b-610f-4227-ad9c-f0ea9f281bc0",
   "metadata": {},
   "outputs": [],
   "source": [
    "import panel as pn\n",
    "pn.extension(\"plotly\")"
   ]
  },
  {
   "cell_type": "code",
   "execution_count": null,
   "id": "c8687fc0-829f-448c-b9be-90a1f2b72040",
   "metadata": {},
   "outputs": [],
   "source": [
    "# Load .env enviroment variables\n",
    "load_dotenv()"
   ]
  },
  {
   "cell_type": "markdown",
   "id": "20fe257a-a6fc-499b-b559-2af837ac5cc2",
   "metadata": {},
   "source": [
    "---"
   ]
  },
  {
   "cell_type": "code",
   "execution_count": null,
   "id": "99da597d-88a1-4a4d-b0d6-df4b9fe30ffa",
   "metadata": {},
   "outputs": [],
   "source": [
    "#Defining a Pie Plot Function\n",
    "\n",
    "def pie_plot_allocation(dataset):\n",
    "    return dataset.plot.pie(subplots=True,\n",
    "                            title=\"Portfolio Composition\",\n",
    "                            autopct='%1.0f%%',\n",
    "                            fontsize=12,\n",
    "                            #textprops={'color':\"w\"},\n",
    "                            pctdistance=0.8,\n",
    "                            colors=[\"lightblue\", \"lightgreen\", \"lightpink\", \"yellow\"],\n",
    "                            figsize=(16,6))\n",
    "\n",
    "                                               "
   ]
  },
  {
   "cell_type": "markdown",
   "id": "9e2502c2-1bad-4643-afbb-e82f649fede4",
   "metadata": {},
   "source": [
    "# Downloading Traditional Investment Data \n",
    "### Import data using pandas_datareader\n",
    "### Import Traditional Asset Data - Indicies covering Stocks, Bonds & T-bills"
   ]
  },
  {
   "cell_type": "code",
   "execution_count": null,
   "id": "18ef6ae9-c8eb-4c4e-97e4-2c1d5bc04b35",
   "metadata": {},
   "outputs": [],
   "source": [
    "assetList = ['^GSPC','^TNX', 'BND']\n",
    "endDate = dt.datetime.now()\n",
    "#endDate = '2021-01-22'\n",
    "startDate = '2010-01-01'\n",
    "\n",
    "#def getData_tdnl(assets, start, end):\n",
    "assetData = pdr.DataReader(assetList, 'yahoo', startDate, endDate)\n",
    "assetData = assetData['Close']\n",
    "assetData.dropna(inplace=True)\n",
    "    #return assetData\n",
    "assetData.head(-1)"
   ]
  },
  {
   "cell_type": "markdown",
   "id": "8b26c065-f73e-4596-88d5-248a18c3ec5f",
   "metadata": {},
   "source": [
    "### Computing daily returns on the dataset"
   ]
  },
  {
   "cell_type": "code",
   "execution_count": null,
   "id": "5e9bb261-3a72-4429-8a15-0ce5486209e2",
   "metadata": {},
   "outputs": [],
   "source": [
    "assetReturns = assetData/assetData.shift(1)\n",
    "\n",
    "#Cleaning Data\n",
    "assetReturns.dropna(inplace=True)\n",
    "\n",
    "assetReturns"
   ]
  },
  {
   "cell_type": "markdown",
   "id": "90b7b4f7-8c65-4c0a-988e-330ed954993f",
   "metadata": {},
   "source": [
    "### Computing Log Returns"
   ]
  },
  {
   "cell_type": "code",
   "execution_count": null,
   "id": "0207f87b-4b39-4cae-b3ff-2c916ab1a90a",
   "metadata": {},
   "outputs": [],
   "source": [
    "logReturns = np.log(assetReturns)\n",
    "\n",
    "#Clean Data\n",
    "logReturns.dropna(inplace=True)\n",
    "\n",
    "logReturns"
   ]
  },
  {
   "cell_type": "markdown",
   "id": "3e2ed995-3124-4c78-a534-f77bca3e7f87",
   "metadata": {},
   "source": [
    "### DataSet Statistics for Traditional Asset Classes - Stock, Bonds, MoneyMarket"
   ]
  },
  {
   "cell_type": "code",
   "execution_count": null,
   "id": "aa171a03-ea87-4f53-9f5e-da94668c79d7",
   "metadata": {},
   "outputs": [],
   "source": [
    "assetReturns.describe()"
   ]
  },
  {
   "cell_type": "markdown",
   "id": "d248cf5e-ac65-4506-86c4-8e2d17b23a28",
   "metadata": {},
   "source": [
    "# Monte Carlo Simulation\n",
    "### To Create Random Asset Weights for Optimum Portfolio Creation"
   ]
  },
  {
   "cell_type": "code",
   "execution_count": null,
   "id": "b7002520-027e-44ee-b859-995d85a78401",
   "metadata": {},
   "outputs": [],
   "source": [
    "#Creating random portfolios\n",
    "\n",
    "#- How many broad assest classes to include in each portfolio\n",
    "n_assets = 3\n",
    "\n",
    "#-- How many portfolios to generate\n",
    "n_portfolios = 10000\n",
    "\n",
    "#-- Initialize empty list to store mean-variance pairs for plotting\n",
    "Tweight = np.zeros((n_portfolios,n_assets))\n",
    "expectedReturns = np.zeros(n_portfolios)\n",
    "expectedVolatility = np.zeros(n_portfolios)\n",
    "sharpeRatio = np.zeros(n_portfolios)\n",
    "\n",
    "#Calculating Mean and Covariance\n",
    "meanlogReturn = logReturns.mean()\n",
    "sigma = logReturns.cov()\n",
    "\n",
    "np.random.seed(100)\n",
    "#-- Loop through and generate lots of random portfolios\n",
    "\n",
    "for k in range(n_portfolios):\n",
    "    \n",
    "    #- Choose weights randomly\n",
    "    Tweights = np.array(np.random.random(n_assets))\n",
    "    #- Ensure weights sum to 1\n",
    "    Tweights = Tweights/np.sum(Tweights)\n",
    "    Tweight[k,:]=Tweights\n",
    "    \n",
    "    #expected Returns\n",
    "    expectedReturns[k] = np.sum(meanlogReturn * Tweights)\n",
    "    \n",
    "    #expected volatility\n",
    "    expectedVolatility[k] = np.sqrt(np.dot(Tweights.T,np.dot(sigma,Tweights)))\n",
    "    \n",
    "    #Sharpe Ratio\n",
    "    sharpeRatio[k] = (expectedReturns[k]/expectedVolatility[k])*np.sqrt(252)\n",
    "\n",
    "#sharpeRatio\n",
    "#expectedVolatility\n",
    "#expectedReturns\n",
    "#weight\n"
   ]
  },
  {
   "cell_type": "markdown",
   "id": "4e26fbf8-993a-44f6-ba84-d1affd5453af",
   "metadata": {},
   "source": [
    "# Finding Optimum Portfolio Allocation - Method 1 (Random Generation)\n",
    "### Finding the optimum Asset Weight, where data indicated highest return for lowest risk"
   ]
  },
  {
   "cell_type": "code",
   "execution_count": null,
   "id": "2c7c35da-ac5a-44e7-b62a-c2f58f34fd7d",
   "metadata": {},
   "outputs": [],
   "source": [
    "maxIndex = sharpeRatio.argmax()\n",
    "Tweight[maxIndex,:]\n",
    "\n",
    "#Publishing Data in Data Frame\n",
    "pd.options.display.float_format = '{:,.2f}'.format\n",
    "data1 = (Tweight[maxIndex,:]*100)\n",
    "Opt_allocation_m1=pd.DataFrame(columns =('Growth', 'Safety','Fixed Income'))\n",
    "Opt_allocation_m1.loc['Random Weights'] = data1.tolist()\n",
    "Opt_allocation_m1"
   ]
  },
  {
   "cell_type": "code",
   "execution_count": null,
   "id": "c4b42da1-d710-4271-a482-c8d9fecbf3a0",
   "metadata": {},
   "outputs": [],
   "source": [
    "pie_plot_allocation(dataset=Opt_allocation_m1.T) "
   ]
  },
  {
   "cell_type": "markdown",
   "id": "d5b4a557-2cf6-4051-8e79-538d9c54e8c8",
   "metadata": {},
   "source": [
    "# Finding Optimum Portfolio Allocation - Method 2 (Scipy Portfolio Optimizer)\n",
    "### Finding the optimum Asset Weight, where data indicated highest return for lowest risk\n",
    "### The method works minimizing all lesser Sharpe Ratios; equivalent to boosting higher Sharpe Ratios"
   ]
  },
  {
   "cell_type": "code",
   "execution_count": null,
   "id": "6152cd6e-89f0-4081-bf33-b9c9b1c04434",
   "metadata": {},
   "outputs": [],
   "source": [
    "#Efficient Frontier\n",
    "from scipy.optimize import minimize\n",
    "\n",
    "def negativeSR(Tweights):\n",
    "    w = np.array(Tweights)\n",
    "    r = np.sum(meanlogReturn*Tweights)\n",
    "    v = np.sqrt(np.dot(Tweights.T,np.dot(sigma,Tweights)) )\n",
    "    SR = r/v\n",
    "    \n",
    "    return -1*SR\n",
    "\n",
    "def checkSumToOne(Tweights):\n",
    "    return np.sum(Tweights)-1\n",
    "    \n",
    "w0 = [0.33,0.33,0.34]\n",
    "bounds = ((0,1),(0,1),(0,1))\n",
    "constraints = ({'type':'eq','fun':checkSumToOne})\n",
    "w_opt = minimize(negativeSR,w0,method='SLSQP',bounds=bounds,constraints=constraints)\n",
    "#w_opt.x\n",
    "\n",
    "#Publishing Data in Data Frame\n",
    "pd.options.display.float_format = '{:,.2f}'.format\n",
    "data2 = w_opt.x*100\n",
    "Opt_allocation_m2=pd.DataFrame(columns =('Growth', 'Safety','Fixed Income'))\n",
    "Opt_allocation_m2.loc['Scipy Optimizer'] = data2.tolist()\n",
    "Opt_allocation_m2"
   ]
  },
  {
   "cell_type": "code",
   "execution_count": null,
   "id": "db588fe4-781b-4edd-abb2-8c04806385d9",
   "metadata": {},
   "outputs": [],
   "source": [
    "pie_plot_allocation(dataset=Opt_allocation_m2.T) "
   ]
  },
  {
   "cell_type": "markdown",
   "id": "7b1f8edf-8c08-461a-87df-82e5241d16ed",
   "metadata": {},
   "source": [
    "# Efficient Frontier for Optimum Portfolio Allocation"
   ]
  },
  {
   "cell_type": "code",
   "execution_count": null,
   "id": "c8c0b2d6-065d-447e-8b5a-6cfcd4004c7b",
   "metadata": {},
   "outputs": [],
   "source": [
    "# Holding bounds for max and min returns for line plot\n",
    "upl = expectedReturns.max()\n",
    "lowl = expectedReturns.min()\n",
    "\n",
    "#Creating equal parts between upper and lower bins\n",
    "returns = np.linspace(upl,lowl,50)\n",
    "volatility_opt = []\n",
    "\n",
    "def minimizemyVolatility(Tweights):\n",
    "    w = np.array(Tweights)\n",
    "    v = np.sqrt(np.dot(Tweights.T,np.dot(sigma,Tweights)) )\n",
    "    return v\n",
    "\n",
    "def getReturn(Tweights):\n",
    "    w = np.array(Tweights)\n",
    "    R = np.sum(meanlogReturn*Tweights)\n",
    "    return R\n",
    "\n",
    "for R in returns:\n",
    "    #find best volatility\n",
    "    constraints = ({'type':'eq','fun':checkSumToOne},\n",
    "                   {'type':'eq','fun':lambda Tweights: getReturn(Tweights)-R})\n",
    "    opt = minimize(minimizemyVolatility,w0,method='SLSQP',bounds=bounds,constraints=constraints)\n",
    "    \n",
    "    #save optimal volatility\n",
    "    volatility_opt.append(opt['fun'])\n",
    "\n",
    "#volatility_opt\n",
    "\n"
   ]
  },
  {
   "cell_type": "markdown",
   "id": "fa87ae5c-eef5-4f16-b451-57b9949a7e07",
   "metadata": {},
   "source": [
    "# Modern Portfolio Theory - Efficient Frontier Chart"
   ]
  },
  {
   "cell_type": "code",
   "execution_count": null,
   "id": "507ea6ab-a7d1-4289-92dc-87b3a0a9763f",
   "metadata": {},
   "outputs": [],
   "source": [
    "plt.figure(figsize=(12,7))\n",
    "plt.ylabel('Returns')\n",
    "plt.xlabel('Volatility')\n",
    "plt.scatter(expectedVolatility,expectedReturns,c=sharpeRatio)\n",
    "plt.colorbar(label = 'Sharpe Ratio')\n",
    "plt.scatter(expectedVolatility[maxIndex],expectedReturns[maxIndex],c='red')\n",
    "plt.plot(volatility_opt,returns,'--')\n",
    "plt.show()"
   ]
  },
  {
   "cell_type": "markdown",
   "id": "864df3d9-57e0-4293-b8e4-6c843c4f38d7",
   "metadata": {},
   "source": [
    "# Comparing Methods 1 & 2 of Optimum Portfolio Allocation"
   ]
  },
  {
   "cell_type": "code",
   "execution_count": null,
   "id": "cd348b94-0ad2-4390-aaf9-05f3b36028f0",
   "metadata": {},
   "outputs": [],
   "source": [
    "### Optimum Portfolio\n",
    "\n",
    "pd.options.display.float_format = '{:,.2f}'.format\n",
    "data0 = np.array([0.000001,0.00001])\n",
    "data1 = (Tweight[maxIndex,:])\n",
    "data2 = w_opt.x\n",
    "Opt_allocation=pd.DataFrame(columns =('Growth', 'Safety','Fixed Income'))\n",
    "Opt_allocation.loc['Random Weights(W1)'] = data1.tolist()\n",
    "Opt_allocation.loc['Optimizer Weights(W2)'] = data2.tolist()\n",
    "Opt_allocation[\"CCIX\"] = data0\n",
    "Opt_allocation_plot = Opt_allocation.transpose()\n",
    "Opt_allocation_plot = Opt_allocation_plot+0.000001"
   ]
  },
  {
   "cell_type": "markdown",
   "id": "5c11dc48-479d-45c7-8915-1a1bc72eaeb1",
   "metadata": {},
   "source": [
    "## Traditional Investments - Optimum Portfolio Pie chart"
   ]
  },
  {
   "cell_type": "code",
   "execution_count": null,
   "id": "41104881-b3b1-4f99-b7f0-aaceeece0f0a",
   "metadata": {},
   "outputs": [],
   "source": [
    "pie_plot_allocation(dataset=Opt_allocation_plot) "
   ]
  },
  {
   "cell_type": "markdown",
   "id": "1fb22d97-fd76-4487-8381-028ca5965648",
   "metadata": {},
   "source": [
    "---"
   ]
  },
  {
   "cell_type": "markdown",
   "id": "9962c936-50bd-43db-bd61-9a005f345e52",
   "metadata": {},
   "source": [
    "# Downloading Popular Cryptocurrency Data\n",
    "\n",
    "### Creating a Crypto Index with popular Cryptos based on MarketCap for a diversified Crypto Strategy"
   ]
  },
  {
   "cell_type": "code",
   "execution_count": null,
   "id": "1f213f74-6040-41d4-8080-bfa2a1f94b89",
   "metadata": {},
   "outputs": [],
   "source": [
    "#Import data using pandas_datareader\n",
    "#Import Popular Crypto Data\n",
    "\n",
    "cryptoList = ['BTC-USD', 'ETH-USD', 'BNB-USD', 'DOT-USD', 'SOL-USD', 'ADA-USD','DOGE-USD','XRP-USD']\n",
    "endDate = dt.datetime.now()\n",
    "#endDate = '2021-01-22'\n",
    "startDate = '2010-01-01'\n",
    "\n",
    "cryptoData = pdr.DataReader(cryptoList, 'yahoo', startDate, endDate)\n",
    "cryptoData = cryptoData['Close']\n",
    "cryptoData.dropna(inplace=True)\n",
    "\n",
    "cryptoData.head(-1)"
   ]
  },
  {
   "cell_type": "markdown",
   "id": "543f78f4-5633-49f7-aab8-95d02f3c1db6",
   "metadata": {
    "tags": []
   },
   "source": [
    "### Computing daily returns on the dataset"
   ]
  },
  {
   "cell_type": "code",
   "execution_count": null,
   "id": "eb405112-0272-4521-b994-4af6535dc016",
   "metadata": {},
   "outputs": [],
   "source": [
    "#computing daily returns on the dataset\n",
    "cryptoReturns = cryptoData/cryptoData.shift(1)\n",
    "#cleaning Data\n",
    "cryptoReturns.dropna(inplace=True)\n",
    "cryptoReturns"
   ]
  },
  {
   "cell_type": "markdown",
   "id": "fad92005-91c0-42ce-b749-65331858499a",
   "metadata": {},
   "source": [
    "### Computing Log Returns"
   ]
  },
  {
   "cell_type": "code",
   "execution_count": null,
   "id": "9a855a0d-9c9b-4cbb-8210-da85d3e549dc",
   "metadata": {},
   "outputs": [],
   "source": [
    "cryptologReturns = np.log(cryptoReturns)\n",
    "#Cleaning data\n",
    "cryptologReturns.dropna(inplace=True)\n",
    "\n",
    "cryptologReturns"
   ]
  },
  {
   "cell_type": "markdown",
   "id": "e8ba5094-3056-4729-a483-38f6e8370725",
   "metadata": {},
   "source": [
    "### DataSet Statistics for Cryptocurrency Assets"
   ]
  },
  {
   "cell_type": "code",
   "execution_count": null,
   "id": "15d228ee-b2f3-4980-90c9-a95f48233ebf",
   "metadata": {},
   "outputs": [],
   "source": [
    "cryptoReturns.describe()"
   ]
  },
  {
   "cell_type": "markdown",
   "id": "a9d82a49-94f6-4e5d-b7d6-f310c64e1256",
   "metadata": {
    "tags": []
   },
   "source": [
    "# Monte Carlo Simulation\n",
    "### To Create Random Asset Weights for Optimum Portfolio Creation /and Creating Optimum Index Weights"
   ]
  },
  {
   "cell_type": "code",
   "execution_count": null,
   "id": "c566422c-1f5c-4d89-ad69-57bc20c78bba",
   "metadata": {},
   "outputs": [],
   "source": [
    "#Creating random crypto portfolios\n",
    "\n",
    "#- How many assests to include in each portfolio\n",
    "n_crypto = 8\n",
    "\n",
    "#-- How many portfolios to generate\n",
    "n_Cportfolios = 10000\n",
    "\n",
    "#-- Initialize empty list to store mean-variance pairs for plotting\n",
    "Cweight=np.zeros((n_Cportfolios,n_crypto))\n",
    "CexpectedReturns=np.zeros(n_Cportfolios)\n",
    "CexpectedVolatility=np.zeros(n_Cportfolios)\n",
    "CsharpeRatio=np.zeros(n_Cportfolios)\n",
    "\n",
    "# Computing Mean and Covariance\n",
    "CmeanlogReturn = cryptologReturns.mean()\n",
    "Csigma = cryptologReturns.cov()\n",
    "\n",
    "np.random.seed(100)\n",
    "#-- Loop through and generate lots of random portfolios\n",
    "for k in range(n_Cportfolios):\n",
    "    \n",
    "    #- Choose weights randomly\n",
    "    Cweights = np.array(np.random.random(n_crypto))\n",
    "    #- Ensure weights sum to 1\n",
    "    Cweights = Cweights/np.sum(Cweights)\n",
    "    Cweight[k,:]=Cweights\n",
    "    \n",
    "    #expected Returns\n",
    "    CexpectedReturns[k] = np.sum(CmeanlogReturn * Cweights)\n",
    "    \n",
    "    #expected volatility\n",
    "    CexpectedVolatility[k] = np.sqrt(np.dot(Cweights.T,np.dot(Csigma,Cweights)))\n",
    "    \n",
    "    #Sharpe Ratio\n",
    "    CsharpeRatio[k] = (CexpectedReturns[k]/CexpectedVolatility[k])*np.sqrt(365)\n",
    "    \n",
    "#Cweight \n",
    "#CexpectedReturns\n",
    "#CexpectedVolatility\n",
    "#CsharpeRatio"
   ]
  },
  {
   "cell_type": "markdown",
   "id": "d691f1b9-827b-495c-bcf9-6aa313f9fded",
   "metadata": {},
   "source": [
    "# Finding Optimum Portfolio Allocation - Method 1 (Random Generation)\n",
    "### Finding the optimum Asset Weight, where data indicated highest return for lowest risk"
   ]
  },
  {
   "cell_type": "code",
   "execution_count": null,
   "id": "0cf93b35-35cc-4480-852d-99ce0f1bbbba",
   "metadata": {},
   "outputs": [],
   "source": [
    "CmaxIndex = CsharpeRatio.argmax()\n",
    "Cweight[CmaxIndex,:]\n",
    "\n",
    "#Publishing Data in Data Frame\n",
    "pd.options.display.float_format = '{:,.2f}'.format\n",
    "data3 = (Cweight[CmaxIndex,:]*100)\n",
    "cryp_index_m1=pd.DataFrame(columns = ('Bitcoin','Ethereum',\n",
    "                                   'Binance','Polkadot',\n",
    "                                   'Solana','Cardano',\n",
    "                                   'Dogecoin','Ripple'))\n",
    "cryp_index_m1.loc['Random Weights'] = data3.tolist()\n",
    "cryp_index_m1\n"
   ]
  },
  {
   "cell_type": "code",
   "execution_count": null,
   "id": "21acd5c9-5f78-4f53-8700-12b3362c714c",
   "metadata": {},
   "outputs": [],
   "source": [
    "pie_plot_allocation(dataset=cryp_index_m1.T) "
   ]
  },
  {
   "cell_type": "markdown",
   "id": "6cb6a115-dd22-4796-a962-076f69752dda",
   "metadata": {},
   "source": [
    "# Finding Optimum Portfolio Allocation - Method 2 (Scipy Portfolio Optimizer)\n",
    "### Finding the optimum Asset Weight, where data indicated highest return for lowest risk\n",
    "### The method works minimizing all lesser Sharpe Ratios; equivalent to boosting higher Sharpe Ratios"
   ]
  },
  {
   "cell_type": "code",
   "execution_count": null,
   "id": "330da669-b988-477c-b446-c3809e10ce98",
   "metadata": {},
   "outputs": [],
   "source": [
    "#Efficient Frontier\n",
    "from scipy.optimize import minimize\n",
    "\n",
    "def CnegativeSR(Cweights):\n",
    "    Cw = np.array(Cweights)\n",
    "    Cr = np.sum(CmeanlogReturn*Cweights)\n",
    "    Cv = np.sqrt(np.dot(Cweights.T,np.dot(Csigma,Cweights)) )\n",
    "    CSR = Cr/Cv\n",
    "    \n",
    "    return -1*CSR\n",
    "\n",
    "def CcheckSumToOne(Cweights):\n",
    "    return np.sum(Cweights)-1\n",
    "    \n",
    "Cw0 = [0.125,0.125,0.125,0.125,0.125,0.125,0.125,0.125]\n",
    "Cbounds = ((0,1),(0,1),(0,1),(0,1),(0,1),(0,1),(0,1),(0,1))\n",
    "Cconstraints = ({'type':'eq','fun':CcheckSumToOne})\n",
    "Cw_opt = minimize(CnegativeSR,Cw0,method='SLSQP',bounds=Cbounds,constraints=Cconstraints)\n",
    "np.set_printoptions(formatter={'float_kind':'{:f}'.format})\n",
    "Cw_opt.x*100\n",
    "\n",
    "#Publishing Data in Data Frame\n",
    "pd.options.display.float_format = '{:,.2f}'.format\n",
    "data4 = Cw_opt.x*100\n",
    "cryp_index_m2=pd.DataFrame(columns = ('Bitcoin','Ethereum',\n",
    "                                   'Binance','Polkadot',\n",
    "                                   'Solana','Cardano',\n",
    "                                   'Dogecoin','Ripple'))\n",
    "cryp_index_m2.loc['Scipy Optimizer'] = data4.tolist()\n",
    "cryp_index_m2"
   ]
  },
  {
   "cell_type": "code",
   "execution_count": null,
   "id": "fadc5fe9-e84d-4d4a-ad3d-58959924ec91",
   "metadata": {},
   "outputs": [],
   "source": [
    "pie_plot_allocation(dataset=cryp_index_m2.T) "
   ]
  },
  {
   "cell_type": "markdown",
   "id": "0a15cb98-83d4-40d6-9bbe-2ebaaa6a174a",
   "metadata": {
    "tags": []
   },
   "source": [
    "# Efficient Frontier for Optimum Portfolio Allocation"
   ]
  },
  {
   "cell_type": "code",
   "execution_count": null,
   "id": "8ccaead9-1bb9-4cea-a9d2-0ffb86083be9",
   "metadata": {
    "tags": []
   },
   "outputs": [],
   "source": [
    "# Holding bounds for max and min returns for line plot\n",
    "Cupl = CexpectedReturns.max()\n",
    "Clowl = CexpectedReturns.min()\n",
    "\n",
    "#Creating equal parts between upper and lower bins\n",
    "Creturns = np.linspace(Clowl,Cupl,50)\n",
    "Cvolatility_opt = []\n",
    "\n",
    "def CminimizemyVolatility(Cweights):\n",
    "    Cw = np.array(Cweights)\n",
    "    Cv = np.sqrt(np.dot(Cweights.T,np.dot(Csigma,Cweights)) )\n",
    "    return Cv\n",
    "\n",
    "def CgetReturn(Cweights):\n",
    "    Cw = np.array(Cweights)\n",
    "    CR = np.sum(CmeanlogReturn*Cweights)\n",
    "    return CR\n",
    "\n",
    "for R in Creturns:\n",
    "    #find best volatility\n",
    "    Cconstraints = ({'type':'eq','fun':CcheckSumToOne},\n",
    "                   {'type':'eq','fun':lambda Cweights: CgetReturn(Cweights)-R})\n",
    "    Copt = minimize(CminimizemyVolatility,Cw0,method='SLSQP',bounds=Cbounds,constraints=Cconstraints)\n",
    "    \n",
    "    #save optimal volatility\n",
    "    Cvolatility_opt.append(Copt['fun'])\n",
    "#Cvolatility_opt"
   ]
  },
  {
   "cell_type": "markdown",
   "id": "e488b15f-eba8-498d-b6c4-1b04676de936",
   "metadata": {},
   "source": [
    "# Modern Portfolio Theory - Efficient Frontier Chart"
   ]
  },
  {
   "cell_type": "code",
   "execution_count": null,
   "id": "c3595517-b64a-454b-9ca4-a18823ca44f3",
   "metadata": {
    "tags": []
   },
   "outputs": [],
   "source": [
    "plt.figure(figsize=(12,7))\n",
    "plt.ylabel('Expected Returns')\n",
    "plt.xlabel('Expected Volatility')\n",
    "plt.scatter(CexpectedVolatility,CexpectedReturns,c=CsharpeRatio)\n",
    "plt.colorbar(label = 'Sharpe Ratio')\n",
    "plt.scatter(CexpectedVolatility[CmaxIndex],CexpectedReturns[CmaxIndex],c='red')\n",
    "plt.plot(Cvolatility_opt,Creturns,'--')\n",
    "plt.show()"
   ]
  },
  {
   "cell_type": "markdown",
   "id": "7767430e-fe01-408a-832a-8f2d50b8be33",
   "metadata": {},
   "source": [
    "# Comparing Methods 1 & 2 of Optimum Portfolio Allocation"
   ]
  },
  {
   "cell_type": "markdown",
   "id": "8c4713f0-0359-4f9f-9304-ed15c98fd51b",
   "metadata": {},
   "source": [
    "### Optimum Portfolio"
   ]
  },
  {
   "cell_type": "code",
   "execution_count": null,
   "id": "792e8815-d442-4df0-8d67-d42df4e7a7d9",
   "metadata": {},
   "outputs": [],
   "source": [
    "#Publishing Data in Data Frame\n",
    "pd.options.display.float_format = '{:,.2f}'.format\n",
    "data3 = (Cweight[CmaxIndex,:])\n",
    "data4 = Cw_opt.x\n",
    "cryp_index=pd.DataFrame(columns = ('Bitcoin','Ethereum',\n",
    "                                   'Binance','Polkadot',\n",
    "                                   'Solana','Cardano',\n",
    "                                   'Dogecoin','Ripple'))\n",
    "cryp_index.loc['Random Weights'] = data3.tolist()\n",
    "cryp_index.loc['Optimizer Weights'] = data4.tolist()\n",
    "cryp_index_plot = cryp_index.transpose()\n",
    "cryp_index_plot"
   ]
  },
  {
   "cell_type": "markdown",
   "id": "23a03761-0032-4a9e-9bff-6427973badc2",
   "metadata": {},
   "source": [
    "### Cryto Index Pie Chart"
   ]
  },
  {
   "cell_type": "code",
   "execution_count": null,
   "id": "b6209650-d58c-4277-acc3-f7d3b8255dab",
   "metadata": {},
   "outputs": [],
   "source": [
    "pie_plot_allocation(dataset=cryp_index.T) "
   ]
  },
  {
   "cell_type": "markdown",
   "id": "b8677d34-c833-40fa-b3c3-102952b5d871",
   "metadata": {},
   "source": [
    "---"
   ]
  },
  {
   "cell_type": "markdown",
   "id": "89a40e88-77f6-4705-9dd2-cc9a7138ac9c",
   "metadata": {},
   "source": [
    "# Combined Portfolio - Traditional + Crypto\n",
    "### Finding a possible optimum portfolio with Traditional Investment Classes and a Crypto Index"
   ]
  },
  {
   "cell_type": "markdown",
   "id": "1f2fba18-716e-4236-a12a-17662e67645a",
   "metadata": {},
   "source": [
    "## Concat Traditional Investment Data + Crypto Data\n",
    "#### Result is a sample of available data \n",
    "### Import Traditional Asset Data - Indicies covering Stocks, Bonds, T-bills and Cryptocurrencies"
   ]
  },
  {
   "cell_type": "code",
   "execution_count": null,
   "id": "e754c3ed-4687-421f-abff-07677bd44c00",
   "metadata": {},
   "outputs": [],
   "source": [
    "combined_data = pd.concat([assetData,cryptoData],axis=1,\n",
    "    join=\"inner\")\n",
    "combined_data"
   ]
  },
  {
   "cell_type": "markdown",
   "id": "aafb5e17-a109-4958-9c6f-fef2e7fe3547",
   "metadata": {},
   "source": [
    "### Computing daily returns on the dataset"
   ]
  },
  {
   "cell_type": "code",
   "execution_count": null,
   "id": "ead8fa31-21f6-4b34-8cd9-a9774dafd645",
   "metadata": {},
   "outputs": [],
   "source": [
    "#computing daily returns on the dataset\n",
    "combined_returns = combined_data/combined_data.shift(1)\n",
    "#cleaning Data\n",
    "combined_returns.dropna(inplace=True)\n",
    "combined_returns"
   ]
  },
  {
   "cell_type": "markdown",
   "id": "90be17ec-07f0-439d-8b91-f4edda6ce5a6",
   "metadata": {},
   "source": [
    "## Adding a new Crypto Index (CCIX)\n",
    "### Selected Cryptos * Optimized Crypto Weights "
   ]
  },
  {
   "cell_type": "markdown",
   "id": "71375353-5727-4b3e-8466-ab7c4a805d4f",
   "metadata": {},
   "source": [
    "### Crypto Weights (Arbitrarily choosing Random Weights for CCIX allocation)"
   ]
  },
  {
   "cell_type": "code",
   "execution_count": null,
   "id": "0fead12c-96f9-4247-bd73-f21ab5f20974",
   "metadata": {},
   "outputs": [],
   "source": [
    "cryp_index"
   ]
  },
  {
   "cell_type": "markdown",
   "id": "27bdb839-b9c7-47d7-ab2a-e04f22581948",
   "metadata": {},
   "source": [
    "### Creating CCIX Market Value based on Price*Weights"
   ]
  },
  {
   "cell_type": "code",
   "execution_count": null,
   "id": "dda93151-541d-440a-b932-5f3f3a7936ff",
   "metadata": {},
   "outputs": [],
   "source": [
    "CCIX_val = ((combined_data['BTC-USD']*cryp_index['Bitcoin'].loc[\"Random Weights\"])+\n",
    "            (combined_data['ETH-USD']*cryp_index['Ethereum'].loc[\"Random Weights\"])+\n",
    "            (combined_data['BNB-USD']*cryp_index['Binance'].loc[\"Random Weights\"])+\n",
    "            (combined_data['DOT-USD']*cryp_index['Polkadot'].loc[\"Random Weights\"])+\n",
    "            (combined_data['SOL-USD']*cryp_index['Solana'].loc[\"Random Weights\"])+\n",
    "            (combined_data['ADA-USD']*cryp_index['Cardano'].loc[\"Random Weights\"])+\n",
    "            (combined_data['DOGE-USD']*cryp_index['Dogecoin'].loc[\"Random Weights\"])+\n",
    "            (combined_data['XRP-USD']*cryp_index['Ripple'].loc[\"Random Weights\"]))"
   ]
  },
  {
   "cell_type": "code",
   "execution_count": null,
   "id": "c3184d5a-94f7-4f01-a26d-717b65dfa27c",
   "metadata": {},
   "outputs": [],
   "source": [
    "combined_data[\"CCIX\"] = CCIX_val\n",
    "combined_data"
   ]
  },
  {
   "cell_type": "code",
   "execution_count": null,
   "id": "b5fbf386-4154-4b26-bd65-143b8a138060",
   "metadata": {},
   "outputs": [],
   "source": [
    "CCIX_WG = ((combined_returns['BTC-USD']*cryp_index['Bitcoin'].loc[\"Random Weights\"])+\n",
    "            (combined_returns['ETH-USD']*cryp_index['Ethereum'].loc[\"Random Weights\"])+\n",
    "            (combined_returns['BNB-USD']*cryp_index['Binance'].loc[\"Random Weights\"])+\n",
    "            (combined_returns['DOT-USD']*cryp_index['Polkadot'].loc[\"Random Weights\"])+\n",
    "            (combined_returns['SOL-USD']*cryp_index['Solana'].loc[\"Random Weights\"])+\n",
    "            (combined_returns['ADA-USD']*cryp_index['Cardano'].loc[\"Random Weights\"])+\n",
    "            (combined_returns['DOGE-USD']*cryp_index['Dogecoin'].loc[\"Random Weights\"])+\n",
    "            (combined_returns['XRP-USD']*cryp_index['Ripple'].loc[\"Random Weights\"]))"
   ]
  },
  {
   "cell_type": "code",
   "execution_count": null,
   "id": "72678293-258f-45ec-901a-609975700598",
   "metadata": {},
   "outputs": [],
   "source": [
    "#CCIX_WG to store the returns"
   ]
  },
  {
   "cell_type": "code",
   "execution_count": null,
   "id": "123b131f-2ef6-4a0a-b982-135fdd4dea02",
   "metadata": {},
   "outputs": [],
   "source": [
    "combined_returns[\"CCIX\"] = CCIX_WG\n",
    "combined_returns"
   ]
  },
  {
   "cell_type": "markdown",
   "id": "91e7d096-3cec-4c4d-b304-bb07aa1025e2",
   "metadata": {},
   "source": [
    "## New Combined Data Set\n",
    "#### Dropping individual Cryptos and keeping the new Crypto Index (CCIX)"
   ]
  },
  {
   "cell_type": "code",
   "execution_count": null,
   "id": "d81963fe-e7ad-4de2-9738-90f351f4d9e5",
   "metadata": {},
   "outputs": [],
   "source": [
    "#New Combined Data with Price/Values\n",
    "new_combinedData = combined_data.drop([\"BTC-USD\",\"ETH-USD\",\"BNB-USD\",\"DOT-USD\",\"SOL-USD\",\"ADA-USD\",\"DOGE-USD\",\"XRP-USD\"],axis=1)\n",
    "new_combinedData"
   ]
  },
  {
   "cell_type": "code",
   "execution_count": null,
   "id": "39733573-3e96-4e96-8b01-6ab0e7fef380",
   "metadata": {},
   "outputs": [],
   "source": [
    "#New Combined Data with Returns\n",
    "new_combinedReturns = combined_returns.drop([\"BTC-USD\",\"ETH-USD\",\"BNB-USD\",\"DOT-USD\",\"SOL-USD\",\"ADA-USD\",\"DOGE-USD\",\"XRP-USD\"],axis=1)\n",
    "new_combinedReturns"
   ]
  },
  {
   "cell_type": "markdown",
   "id": "7da6f9c5-9ef1-4dc3-9b80-b8aa80f4dbc1",
   "metadata": {},
   "source": [
    "### DataSet Statistics for Cryptocurrency Assets"
   ]
  },
  {
   "cell_type": "code",
   "execution_count": null,
   "id": "8094f752-6f64-4f11-a855-5e99e8f1c732",
   "metadata": {},
   "outputs": [],
   "source": [
    "new_combinedReturns.describe()"
   ]
  },
  {
   "cell_type": "markdown",
   "id": "51f4b426-588b-4d5c-982b-b81613e0323b",
   "metadata": {
    "tags": []
   },
   "source": [
    "### Computing log returns on the dataset"
   ]
  },
  {
   "cell_type": "code",
   "execution_count": null,
   "id": "3e8d5591-be0c-4919-b7ae-d6807e1bacee",
   "metadata": {},
   "outputs": [],
   "source": [
    "new_logcombinedReturns = np.log(new_combinedReturns)\n",
    "#Cleaning data\n",
    "new_logcombinedReturns.dropna(inplace=True)\n",
    "\n",
    "new_logcombinedReturns"
   ]
  },
  {
   "cell_type": "markdown",
   "id": "1f19f62f-8373-4209-bbe4-beb9157cbbc3",
   "metadata": {},
   "source": [
    "# Monte Carlo Simulation\n",
    "### To Create Random Asset Weights for Optimum Portfolio Weights for Traditional + Crypto Assets"
   ]
  },
  {
   "cell_type": "code",
   "execution_count": null,
   "id": "bcc74d3b-45af-4a9c-900d-61092f338923",
   "metadata": {},
   "outputs": [],
   "source": [
    "#Creating random crypto portfolios\n",
    "\n",
    "#- How many assests to include in each portfolio\n",
    "n_TC = 4\n",
    "\n",
    "#-- How many portfolios to generate\n",
    "n_TCportfolios = 10000\n",
    "\n",
    "#-- Initialize empty list to store mean-variance pairs for plotting\n",
    "TCweight=np.zeros((n_TCportfolios,n_TC))\n",
    "TCexpectedReturns=np.zeros(n_TCportfolios)\n",
    "TCexpectedVolatility=np.zeros(n_TCportfolios)\n",
    "TCsharpeRatio=np.zeros(n_TCportfolios)\n",
    "\n",
    "# Computing Mean and Covariance\n",
    "TCmeanlogReturn = new_logcombinedReturns.mean()\n",
    "TCsigma = new_logcombinedReturns.cov()\n",
    "\n",
    "np.random.seed(100)\n",
    "#-- Loop through and generate lots of random portfolios\n",
    "for k in range(n_TCportfolios):\n",
    "    \n",
    "    #- Choose weights randomly\n",
    "    TCweights = np.array(np.random.random(n_TC))\n",
    "    #- Ensure weights sum to 1\n",
    "    TCweights = TCweights/np.sum(TCweights)\n",
    "    TCweight[k,:]=TCweights\n",
    "    \n",
    "    #expected Returns\n",
    "    TCexpectedReturns[k] = np.sum(TCmeanlogReturn * TCweights)\n",
    "    \n",
    "    #expected volatility\n",
    "    TCexpectedVolatility[k] = np.sqrt(np.dot(TCweights.T,np.dot(TCsigma,TCweights)))\n",
    "    \n",
    "    #Sharpe Ratio\n",
    "    TCsharpeRatio[k] = (TCexpectedReturns[k]/TCexpectedVolatility[k])*np.sqrt(365)\n",
    "    \n",
    "#Cweight \n",
    "#CexpectedReturns\n",
    "#CexpectedVolatility\n",
    "#CsharpeRatio"
   ]
  },
  {
   "cell_type": "markdown",
   "id": "03184897-73fb-470b-938b-950f4b5b42ea",
   "metadata": {},
   "source": [
    "# Finding Optimum Portfolio Allocation - Method 1 (Random Generation)\n",
    "### Finding the optimum Asset Weight, where data indicated highest return for lowest risk"
   ]
  },
  {
   "cell_type": "code",
   "execution_count": null,
   "id": "6510ba29-216e-478a-9656-f765e0223f00",
   "metadata": {},
   "outputs": [],
   "source": [
    "TCmaxIndex = TCsharpeRatio.argmax()\n",
    "TCweight[TCmaxIndex,:]*100\n",
    "\n",
    "#Publishing Data in Data Frame\n",
    "pd.options.display.float_format = '{:,.2f}'.format\n",
    "data5 = (TCweight[TCmaxIndex,:]*100)\n",
    "TC_index_m1=pd.DataFrame(columns = ('S&P 500','T-BILL',\n",
    "                                   'BOND INDEX','CCIX'))\n",
    "TC_index_m1.loc['Random Weights'] = data5.tolist()\n",
    "TC_index_m1"
   ]
  },
  {
   "cell_type": "markdown",
   "id": "3aab0b7f-8b1a-472c-ac8c-fc2e0b9bb312",
   "metadata": {},
   "source": [
    "# Finding Optimum Portfolio Allocation - Method 2 (Scipy Portfolio Optimizer)\n",
    "### Finding the optimum Asset Weight, where data indicated highest return for lowest risk\n",
    "### The method works minimizing all lesser Sharpe Ratios; equivalent to boosting higher Sharpe Ratios"
   ]
  },
  {
   "cell_type": "code",
   "execution_count": null,
   "id": "14328fd9-2bde-44a4-a38a-147c24e5e28e",
   "metadata": {},
   "outputs": [],
   "source": [
    "#Efficient Frontier\n",
    "from scipy.optimize import minimize\n",
    "\n",
    "def TCnegativeSR(TCweights):\n",
    "    TCw = np.array(TCweights)\n",
    "    TCr = np.sum(TCmeanlogReturn*TCweights)\n",
    "    TCv = np.sqrt(np.dot(TCweights.T,np.dot(TCsigma,TCweights)) )\n",
    "    TCSR = TCr/TCv\n",
    "    \n",
    "    return -1*TCSR\n",
    "\n",
    "def TCcheckSumToOne(TCweights):\n",
    "    return np.sum(TCweights)-1\n",
    "    \n",
    "TCw0 = [0.25,0.25,0.25,0.25]\n",
    "TCbounds = ((0,1),(0,1),(0,1),(0,1))\n",
    "TCconstraints = ({'type':'eq','fun':TCcheckSumToOne})\n",
    "TCw_opt = minimize(TCnegativeSR,TCw0,method='SLSQP',bounds=TCbounds,constraints=TCconstraints)\n",
    "np.set_printoptions(formatter={'float_kind':'{:f}'.format})\n",
    "TCw_opt.x*100\n",
    "\n",
    "#Publishing Data in Data Frame\n",
    "pd.options.display.float_format = '{:,.2f}'.format\n",
    "data6 = TCw_opt.x*100\n",
    "TC_index_m2=pd.DataFrame(columns = ('S&P 500','T-BILL',\n",
    "                                   'BOND INDEX','CCIX'))\n",
    "TC_index_m2.loc['Optimizer Weights'] = data6.tolist()\n",
    "TC_index_m2"
   ]
  },
  {
   "cell_type": "markdown",
   "id": "f330c5ff-92e3-4ea5-8400-3d90145472f6",
   "metadata": {},
   "source": [
    "# Efficient Frontier for Optimum Portfolio Allocation"
   ]
  },
  {
   "cell_type": "code",
   "execution_count": null,
   "id": "540aa62c-1239-4012-a755-b377d7a298ee",
   "metadata": {},
   "outputs": [],
   "source": [
    "# Holding bounds for max and min returns for line plot\n",
    "TCupl = TCexpectedReturns.max()\n",
    "TClowl = TCexpectedReturns.min()\n",
    "\n",
    "#Creating equal parts between upper and lower bins\n",
    "TCreturns = np.linspace(TCupl,TClowl,50)\n",
    "TCvolatility_opt = []\n",
    "\n",
    "def TCminimizemyVolatility(TCweights):\n",
    "    TCw = np.array(TCweights)\n",
    "    TCv = np.sqrt(np.dot(TCweights.T,np.dot(TCsigma,TCweights)) )\n",
    "    return TCv\n",
    "\n",
    "def TCgetReturn(TCweights):\n",
    "    TCw = np.array(TCweights)\n",
    "    TCR = np.sum(TCmeanlogReturn*TCweights)\n",
    "    return TCR\n",
    "\n",
    "for R in TCreturns:\n",
    "    #find best volatility\n",
    "    TCconstraints = ({'type':'eq','fun':TCcheckSumToOne},\n",
    "                   {'type':'eq','fun':lambda TCweights: TCgetReturn(TCweights)-R})\n",
    "    TCopt = minimize(TCminimizemyVolatility,TCw0,method='SLSQP',bounds=TCbounds,constraints=TCconstraints)\n",
    "    \n",
    "    #save optimal volatility\n",
    "    TCvolatility_opt.append(TCopt['fun'])\n",
    "#TCvolatility_opt"
   ]
  },
  {
   "cell_type": "markdown",
   "id": "8844409c-8e15-4cef-be2c-1afb4a66bd58",
   "metadata": {},
   "source": [
    "# Modern Portfolio Theory - Efficient Frontier Chart"
   ]
  },
  {
   "cell_type": "code",
   "execution_count": null,
   "id": "a0b01850-73bb-44e0-aa37-f1ffc12ac2a7",
   "metadata": {},
   "outputs": [],
   "source": [
    "plt.figure(figsize=(12,7))\n",
    "plt.ylabel('Expected Returns')\n",
    "plt.xlabel('Expected Volatility')\n",
    "plt.scatter(TCexpectedVolatility,TCexpectedReturns,c=TCsharpeRatio)\n",
    "plt.colorbar(label = 'Sharpe Ratio')\n",
    "plt.scatter(TCexpectedVolatility[TCmaxIndex],TCexpectedReturns[TCmaxIndex],c='red')\n",
    "plt.plot(TCvolatility_opt,TCreturns,'--')\n",
    "plt.show()"
   ]
  },
  {
   "cell_type": "markdown",
   "id": "01c432e4-ce40-4deb-a03c-af7ff5b670c4",
   "metadata": {},
   "source": [
    "# Comparing Methods 1 & 2 of Optimum Portfolio Allocation"
   ]
  },
  {
   "cell_type": "code",
   "execution_count": 414,
   "id": "21920977-eb5a-45d3-bd53-bce13ad27e00",
   "metadata": {},
   "outputs": [
    {
     "data": {
      "text/html": [
       "<div>\n",
       "<style scoped>\n",
       "    .dataframe tbody tr th:only-of-type {\n",
       "        vertical-align: middle;\n",
       "    }\n",
       "\n",
       "    .dataframe tbody tr th {\n",
       "        vertical-align: top;\n",
       "    }\n",
       "\n",
       "    .dataframe thead th {\n",
       "        text-align: right;\n",
       "    }\n",
       "</style>\n",
       "<table border=\"1\" class=\"dataframe\">\n",
       "  <thead>\n",
       "    <tr style=\"text-align: right;\">\n",
       "      <th></th>\n",
       "      <th>Random Weights(W5)</th>\n",
       "      <th>Optimizer Weights(W6)</th>\n",
       "    </tr>\n",
       "  </thead>\n",
       "  <tbody>\n",
       "    <tr>\n",
       "      <th>Growth</th>\n",
       "      <td>0.59</td>\n",
       "      <td>0.61</td>\n",
       "    </tr>\n",
       "    <tr>\n",
       "      <th>Safety</th>\n",
       "      <td>0.21</td>\n",
       "      <td>0.19</td>\n",
       "    </tr>\n",
       "    <tr>\n",
       "      <th>Fixed Income</th>\n",
       "      <td>0.01</td>\n",
       "      <td>0.00</td>\n",
       "    </tr>\n",
       "    <tr>\n",
       "      <th>CCIX</th>\n",
       "      <td>0.19</td>\n",
       "      <td>0.20</td>\n",
       "    </tr>\n",
       "  </tbody>\n",
       "</table>\n",
       "</div>"
      ],
      "text/plain": [
       "              Random Weights(W5)  Optimizer Weights(W6)\n",
       "Growth                      0.59                   0.61\n",
       "Safety                      0.21                   0.19\n",
       "Fixed Income                0.01                   0.00\n",
       "CCIX                        0.19                   0.20"
      ]
     },
     "execution_count": 414,
     "metadata": {},
     "output_type": "execute_result"
    }
   ],
   "source": [
    "#Publishing Data in Data Frame\n",
    "pd.options.display.float_format = '{:,.2f}'.format\n",
    "data5 = (TCweight[TCmaxIndex,:])\n",
    "data6 = TCw_opt.x\n",
    "TC_index=pd.DataFrame(columns = ('Growth','Safety',\n",
    "                                   'Fixed Income','CCIX'))\n",
    "TC_index.loc['Random Weights(W5)'] = data5.tolist()\n",
    "TC_index.loc['Optimizer Weights(W6)'] = data6.tolist()\n",
    "TC_index_plot=TC_index.transpose()\n",
    "TC_index_plot"
   ]
  },
  {
   "cell_type": "markdown",
   "id": "adb7b98a-814c-4b75-98d9-5918ace04599",
   "metadata": {},
   "source": [
    "### Combined allocation Pie Chart ??"
   ]
  },
  {
   "cell_type": "code",
   "execution_count": 415,
   "id": "bb15abc0-71db-4b9f-a338-a1b4f3a49e9e",
   "metadata": {},
   "outputs": [
    {
     "data": {
      "text/plain": [
       "array([<AxesSubplot:ylabel='Random Weights(W5)'>,\n",
       "       <AxesSubplot:ylabel='Optimizer Weights(W6)'>], dtype=object)"
      ]
     },
     "execution_count": 415,
     "metadata": {},
     "output_type": "execute_result"
    },
    {
     "data": {
      "image/png": "[encoded data removed]",
      "text/plain": [
       "<Figure size 1152x432 with 2 Axes>"
      ]
     },
     "metadata": {},
     "output_type": "display_data"
    }
   ],
   "source": [
    "pie_plot_allocation(dataset=TC_index.T) \n"
   ]
  },
  {
   "cell_type": "markdown",
   "id": "60faefe4-4922-416a-b2d7-59447b624a1e",
   "metadata": {},
   "source": [
    "---"
   ]
  },
  {
   "cell_type": "markdown",
   "id": "4bf0e693-fd07-4dcb-86f6-b4e10c544bb7",
   "metadata": {},
   "source": [
    "# Financial Planner"
   ]
  },
  {
   "cell_type": "code",
   "execution_count": 416,
   "id": "2f0913ed-9154-4ee2-94da-021fff998c8a",
   "metadata": {},
   "outputs": [],
   "source": [
    "#Variables to Store Weights\n",
    "w1 = data1\n",
    "w2 = data2\n",
    "w3 = data3\n",
    "w4 = data4\n",
    "w5 = data5\n",
    "w6 = data6\n",
    "equal = [0.25,0.25,0.25,0.25]\n",
    "stock_only = [1,0,0,0]\n",
    "crypto_index = [0,0,0,1]"
   ]
  },
  {
   "cell_type": "markdown",
   "id": "83c271f8-342e-4161-90c8-11d7f10ced4e",
   "metadata": {},
   "source": [
    "## All computed allocations"
   ]
  },
  {
   "cell_type": "code",
   "execution_count": 417,
   "id": "bf0667a2-23f6-417e-9251-c5212096a6ea",
   "metadata": {},
   "outputs": [
    {
     "data": {
      "text/html": [
       "<div>\n",
       "<style scoped>\n",
       "    .dataframe tbody tr th:only-of-type {\n",
       "        vertical-align: middle;\n",
       "    }\n",
       "\n",
       "    .dataframe tbody tr th {\n",
       "        vertical-align: top;\n",
       "    }\n",
       "\n",
       "    .dataframe thead th {\n",
       "        text-align: right;\n",
       "    }\n",
       "</style>\n",
       "<table border=\"1\" class=\"dataframe\">\n",
       "  <thead>\n",
       "    <tr style=\"text-align: right;\">\n",
       "      <th></th>\n",
       "      <th>Growth</th>\n",
       "      <th>Safety</th>\n",
       "      <th>Fixed Income</th>\n",
       "      <th>CCIX</th>\n",
       "    </tr>\n",
       "  </thead>\n",
       "  <tbody>\n",
       "    <tr>\n",
       "      <th>Random Weights(W1)</th>\n",
       "      <td>0.47</td>\n",
       "      <td>0.00</td>\n",
       "      <td>0.53</td>\n",
       "      <td>0.00</td>\n",
       "    </tr>\n",
       "    <tr>\n",
       "      <th>Optimizer Weights(W2)</th>\n",
       "      <td>0.48</td>\n",
       "      <td>0.00</td>\n",
       "      <td>0.52</td>\n",
       "      <td>0.00</td>\n",
       "    </tr>\n",
       "  </tbody>\n",
       "</table>\n",
       "</div>"
      ],
      "text/plain": [
       "                       Growth  Safety  Fixed Income  CCIX\n",
       "Random Weights(W1)       0.47    0.00          0.53  0.00\n",
       "Optimizer Weights(W2)    0.48    0.00          0.52  0.00"
      ]
     },
     "execution_count": 417,
     "metadata": {},
     "output_type": "execute_result"
    }
   ],
   "source": [
    "#Traditional Investments Allocation\n",
    "Opt_allocation"
   ]
  },
  {
   "cell_type": "code",
   "execution_count": 418,
   "id": "2ac0302c-fac0-4ebf-b67c-613eed14a733",
   "metadata": {},
   "outputs": [
    {
     "data": {
      "text/html": [
       "<div>\n",
       "<style scoped>\n",
       "    .dataframe tbody tr th:only-of-type {\n",
       "        vertical-align: middle;\n",
       "    }\n",
       "\n",
       "    .dataframe tbody tr th {\n",
       "        vertical-align: top;\n",
       "    }\n",
       "\n",
       "    .dataframe thead th {\n",
       "        text-align: right;\n",
       "    }\n",
       "</style>\n",
       "<table border=\"1\" class=\"dataframe\">\n",
       "  <thead>\n",
       "    <tr style=\"text-align: right;\">\n",
       "      <th></th>\n",
       "      <th>Bitcoin</th>\n",
       "      <th>Ethereum</th>\n",
       "      <th>Binance</th>\n",
       "      <th>Polkadot</th>\n",
       "      <th>Solana</th>\n",
       "      <th>Cardano</th>\n",
       "      <th>Dogecoin</th>\n",
       "      <th>Ripple</th>\n",
       "    </tr>\n",
       "  </thead>\n",
       "  <tbody>\n",
       "    <tr>\n",
       "      <th>Random Weights</th>\n",
       "      <td>0.08</td>\n",
       "      <td>0.13</td>\n",
       "      <td>0.26</td>\n",
       "      <td>0.01</td>\n",
       "      <td>0.25</td>\n",
       "      <td>0.12</td>\n",
       "      <td>0.13</td>\n",
       "      <td>0.01</td>\n",
       "    </tr>\n",
       "    <tr>\n",
       "      <th>Optimizer Weights</th>\n",
       "      <td>0.00</td>\n",
       "      <td>0.00</td>\n",
       "      <td>0.42</td>\n",
       "      <td>0.00</td>\n",
       "      <td>0.36</td>\n",
       "      <td>0.02</td>\n",
       "      <td>0.20</td>\n",
       "      <td>0.00</td>\n",
       "    </tr>\n",
       "  </tbody>\n",
       "</table>\n",
       "</div>"
      ],
      "text/plain": [
       "                   Bitcoin  Ethereum  Binance  Polkadot  Solana  Cardano  \\\n",
       "Random Weights        0.08      0.13     0.26      0.01    0.25     0.12   \n",
       "Optimizer Weights     0.00      0.00     0.42      0.00    0.36     0.02   \n",
       "\n",
       "                   Dogecoin  Ripple  \n",
       "Random Weights         0.13    0.01  \n",
       "Optimizer Weights      0.20    0.00  "
      ]
     },
     "execution_count": 418,
     "metadata": {},
     "output_type": "execute_result"
    }
   ],
   "source": [
    "#CCIX Allocation\n",
    "cryp_index"
   ]
  },
  {
   "cell_type": "code",
   "execution_count": 419,
   "id": "f773abdf-6b24-4e52-bfdb-e542da67d09c",
   "metadata": {},
   "outputs": [
    {
     "data": {
      "text/html": [
       "<div>\n",
       "<style scoped>\n",
       "    .dataframe tbody tr th:only-of-type {\n",
       "        vertical-align: middle;\n",
       "    }\n",
       "\n",
       "    .dataframe tbody tr th {\n",
       "        vertical-align: top;\n",
       "    }\n",
       "\n",
       "    .dataframe thead th {\n",
       "        text-align: right;\n",
       "    }\n",
       "</style>\n",
       "<table border=\"1\" class=\"dataframe\">\n",
       "  <thead>\n",
       "    <tr style=\"text-align: right;\">\n",
       "      <th></th>\n",
       "      <th>Growth</th>\n",
       "      <th>Safety</th>\n",
       "      <th>Fixed Income</th>\n",
       "      <th>CCIX</th>\n",
       "    </tr>\n",
       "  </thead>\n",
       "  <tbody>\n",
       "    <tr>\n",
       "      <th>Random Weights(W5)</th>\n",
       "      <td>0.59</td>\n",
       "      <td>0.21</td>\n",
       "      <td>0.01</td>\n",
       "      <td>0.19</td>\n",
       "    </tr>\n",
       "    <tr>\n",
       "      <th>Optimizer Weights(W6)</th>\n",
       "      <td>0.61</td>\n",
       "      <td>0.19</td>\n",
       "      <td>0.00</td>\n",
       "      <td>0.20</td>\n",
       "    </tr>\n",
       "  </tbody>\n",
       "</table>\n",
       "</div>"
      ],
      "text/plain": [
       "                       Growth  Safety  Fixed Income  CCIX\n",
       "Random Weights(W5)       0.59    0.21          0.01  0.19\n",
       "Optimizer Weights(W6)    0.61    0.19          0.00  0.20"
      ]
     },
     "execution_count": 419,
     "metadata": {},
     "output_type": "execute_result"
    }
   ],
   "source": [
    "#Traditional + Crypto Allocation Optimum comuted allocation\n",
    "TC_index"
   ]
  },
  {
   "cell_type": "code",
   "execution_count": null,
   "id": "0a73465f-4d95-4f1e-84cc-6cbf806cce0c",
   "metadata": {},
   "outputs": [],
   "source": []
  },
  {
   "cell_type": "markdown",
   "id": "e12544d2-0122-41e0-baa9-d7f7d713c7e3",
   "metadata": {},
   "source": [
    "### Dataset compatible with Financial Planner & MCForecastTools"
   ]
  },
  {
   "cell_type": "code",
   "execution_count": null,
   "id": "fffc4e82-51fc-43a5-9f54-b5c9ce664640",
   "metadata": {},
   "outputs": [],
   "source": [
    "new_combinedData_ml=pd.DataFrame(new_combinedData)\n",
    "new_combinedData_ml.columns = pd.MultiIndex.from_product([['S&P500','T-Bill','Fixed Income','CCIX'],list('C')])\n",
    "\n",
    "new_combinedData_ml.rename({'C': 'close'}, axis=1, inplace=True)\n",
    "new_combinedData_ml\n"
   ]
  },
  {
   "cell_type": "markdown",
   "id": "ca2b5832-1380-4457-a694-b63c28d1d3db",
   "metadata": {},
   "source": [
    "### Financial Planner Function"
   ]
  },
  {
   "cell_type": "code",
   "execution_count": 378,
   "id": "ee93a6c7-122c-4408-acd2-f314d1ff0c94",
   "metadata": {},
   "outputs": [],
   "source": [
    "w1 = Opt_allocation.loc['Random Weights(W1)'].tolist()\n",
    "w2 = Opt_allocation.loc['Optimizer Weights(W2)'].tolist()\n",
    "w3 = data3\n",
    "w4 = data4\n",
    "w5 = TC_index.loc['Random Weights(W5)'].tolist()\n",
    "w6 = TC_index.loc['Optimizer Weights(W6)'].tolist()\n",
    "equal = [0.25,0.25,0.25,0.25]\n",
    "stock_only = [1,0,0,0]\n",
    "CCIX_only = [0,0,0,1]\n",
    "years = 1\n",
    "initial_investment = 10000"
   ]
  },
  {
   "cell_type": "code",
   "execution_count": 470,
   "id": "a01c2938-7325-4757-b1bc-5e8b6f1614eb",
   "metadata": {},
   "outputs": [
    {
     "name": "stdout",
     "output_type": "stream",
     "text": [
      "There is a 95% chance that an initial investment of $10,000.00 in the portfolio over the next 1 year(s) will end within in the range of $11,478.69 and $15,960.22\n"
     ]
    }
   ],
   "source": [
    "def plan_print_summary(data, weights, years, investment):    \n",
    "    # Configuring a Monte Carlo simulation to forecast cumulative returns\n",
    "    plan = MCSimulation(\n",
    "    portfolio_data = new_combinedData_ml,\n",
    "    weights = weights,\n",
    "    num_simulation = 5,\n",
    "    num_trading_days = 252*years\n",
    "    )\n",
    "\n",
    "    # Running a Monte Carlo simulation to forecast cumulative returns\n",
    "    np.random.seed(100)\n",
    "    \n",
    "    # Fetch summary statistics from the Monte Carlo simulation results\n",
    "    plan_summary = plan.summarize_cumulative_return()\n",
    "    \n",
    "    # Use the lower and upper `95%` confidence intervals to calculate the range of the possible outcomes of an initial investment\n",
    "    ci_lower1 = plan_summary[8]*initial_investment\n",
    "    ci_upper1 = plan_summary[9]*initial_investment\n",
    "    \n",
    "    print(f\"There is a 95% chance that an initial investment of ${initial_investment:,.2f} in the portfolio\"\n",
    "       f\" over the next {years} year(s) will end within in the range of\"\n",
    "       f\" ${ci_lower1:,.2f} and ${ci_upper1:,.2f}\")\n",
    "          \n",
    "    return\n",
    "\n",
    "plan_print_summary(data=new_combinedData_ml, weights = stock_only, years = 1, investment = 10000)"
   ]
  },
  {
   "cell_type": "code",
   "execution_count": null,
   "id": "e66100fd-f03c-4ddd-b3e6-ee34af36afad",
   "metadata": {},
   "outputs": [],
   "source": [
    "def cumulative_returns_plot(data, weights, years, investment):    \n",
    "    # Configuring a Monte Carlo simulation to forecast cumulative returns\n",
    "    plan = MCSimulation(\n",
    "    portfolio_data = new_combinedData_ml,\n",
    "    weights = weights,\n",
    "    num_simulation = 5,\n",
    "    num_trading_days = 252*years\n",
    "    )\n",
    "\n",
    "    # Running a Monte Carlo simulation to forecast cumulative returns\n",
    "    np.random.seed(100)\n",
    "    \n",
    "    # Plot simulation outcomes\n",
    "    plan.calc_cumulative_return()\n",
    "    return\n",
    "\n",
    "cumulative_returns_plot(data=new_combinedData_ml, weights = stock_only, years = 1, investment = 10000)"
   ]
  },
  {
   "cell_type": "code",
   "execution_count": 474,
   "id": "b845cefa-e1ba-4b72-9b7b-2e040bd38d32",
   "metadata": {},
   "outputs": [
    {
     "ename": "TypeError",
     "evalue": "__init__() got an unexpected keyword argument 'groupby'",
     "output_type": "error",
     "traceback": [
      "\u001b[0;31m---------------------------------------------------------------------------\u001b[0m",
      "\u001b[0;31mTypeError\u001b[0m                                 Traceback (most recent call last)",
      "\u001b[0;32m/var/folders/2b/7l_c8d254hn15vrfcsl1sr_r0000gn/T/ipykernel_2239/2748436955.py\u001b[0m in \u001b[0;36m<module>\u001b[0;34m\u001b[0m\n\u001b[1;32m     19\u001b[0m     \u001b[0;32mreturn\u001b[0m\u001b[0;34m\u001b[0m\u001b[0;34m\u001b[0m\u001b[0m\n\u001b[1;32m     20\u001b[0m \u001b[0;34m\u001b[0m\u001b[0m\n\u001b[0;32m---> 21\u001b[0;31m \u001b[0mline_plot\u001b[0m\u001b[0;34m(\u001b[0m\u001b[0mdata\u001b[0m\u001b[0;34m=\u001b[0m\u001b[0mnew_combinedData_ml\u001b[0m\u001b[0;34m,\u001b[0m \u001b[0mweights\u001b[0m \u001b[0;34m=\u001b[0m \u001b[0mstock_only\u001b[0m\u001b[0;34m,\u001b[0m \u001b[0myears\u001b[0m \u001b[0;34m=\u001b[0m \u001b[0;36m1\u001b[0m\u001b[0;34m,\u001b[0m \u001b[0minvestment\u001b[0m \u001b[0;34m=\u001b[0m \u001b[0;36m10000\u001b[0m\u001b[0;34m)\u001b[0m\u001b[0;34m\u001b[0m\u001b[0;34m\u001b[0m\u001b[0m\n\u001b[0m",
      "\u001b[0;32m/var/folders/2b/7l_c8d254hn15vrfcsl1sr_r0000gn/T/ipykernel_2239/2748436955.py\u001b[0m in \u001b[0;36mline_plot\u001b[0;34m(data, weights, years, investment)\u001b[0m\n\u001b[1;32m      6\u001b[0m     \u001b[0mnum_simulation\u001b[0m \u001b[0;34m=\u001b[0m \u001b[0;36m5\u001b[0m\u001b[0;34m,\u001b[0m\u001b[0;34m\u001b[0m\u001b[0;34m\u001b[0m\u001b[0m\n\u001b[1;32m      7\u001b[0m     \u001b[0mgroupby\u001b[0m \u001b[0;34m=\u001b[0m \u001b[0mweights\u001b[0m\u001b[0;34m,\u001b[0m\u001b[0;34m\u001b[0m\u001b[0;34m\u001b[0m\u001b[0m\n\u001b[0;32m----> 8\u001b[0;31m     \u001b[0mnum_trading_days\u001b[0m \u001b[0;34m=\u001b[0m \u001b[0;36m252\u001b[0m\u001b[0;34m*\u001b[0m\u001b[0myears\u001b[0m\u001b[0;34m\u001b[0m\u001b[0;34m\u001b[0m\u001b[0m\n\u001b[0m\u001b[1;32m      9\u001b[0m     )\n\u001b[1;32m     10\u001b[0m \u001b[0;34m\u001b[0m\u001b[0m\n",
      "\u001b[0;31mTypeError\u001b[0m: __init__() got an unexpected keyword argument 'groupby'"
     ]
    }
   ],
   "source": [
    "def line_plot(data, weights, years, investment):    \n",
    "    # Configuring a Monte Carlo simulation to forecast cumulative returns\n",
    "    plan = MCSimulation(\n",
    "    portfolio_data = new_combinedData_ml,\n",
    "    weights = weights,\n",
    "    num_simulation = 5,\n",
    "    groupby = weights,\n",
    "    num_trading_days = 252*years\n",
    "    )\n",
    "\n",
    "    # Running a Monte Carlo simulation to forecast cumulative returns\n",
    "    np.random.seed(100)\n",
    "    \n",
    "    # Plot simulation outcomes\n",
    "    plan.calc_cumulative_return()\n",
    "    \n",
    "    # Plot simulation outcomes\n",
    "    line_plot_plan = plan.plot_simulation() \n",
    "    return\n",
    "    \n",
    "line_plot(data=new_combinedData_ml, weights = stock_only, years = 1, investment = 10000)    "
   ]
  },
  {
   "cell_type": "code",
   "execution_count": 464,
   "id": "1f7292d0-4d6d-436a-9288-410d0d23a86f",
   "metadata": {},
   "outputs": [
    {
     "data": {
      "image/png": "[encoded data removed]",
      "text/plain": [
       "<Figure size 432x288 with 1 Axes>"
      ]
     },
     "metadata": {
      "needs_background": "light"
     },
     "output_type": "display_data"
    }
   ],
   "source": [
    "def bar_plot(data, weights, years, investment):    \n",
    "    # Configuring a Monte Carlo simulation to forecast cumulative returns\n",
    "    plan = MCSimulation(\n",
    "    portfolio_data = new_combinedData_ml,\n",
    "    weights = weights,\n",
    "    num_simulation = 5,\n",
    "    num_trading_days = 252*years\n",
    "    )\n",
    "\n",
    "    # Running a Monte Carlo simulation to forecast cumulative returns\n",
    "    np.random.seed(100)\n",
    "    \n",
    "    # Plot probability distribution and confidence intervals\n",
    "    dist_plot_plan = plan.plot_distribution()\n",
    "    \n",
    "    return\n",
    "\n",
    "bar_plot(data=new_combinedData_ml, weights = stock_only, years = 1, investment = 10000)\n",
    "    "
   ]
  },
  {
   "cell_type": "code",
   "execution_count": 465,
   "id": "bc9553a3-bdc5-46fc-913f-bb324b142d15",
   "metadata": {
    "jupyter": {
     "source_hidden": true
    },
    "tags": []
   },
   "outputs": [],
   "source": [
    "# def new_fin_planner(data, weights, years, investment):\n",
    "    \n",
    "#     # Configuring a Monte Carlo simulation to forecast cumulative returns\n",
    "#     plan = MCSimulation(\n",
    "#     portfolio_data = new_combinedData_ml,\n",
    "#     weights = weights,\n",
    "#     num_simulation = 5,\n",
    "#     num_trading_days = 252*years\n",
    "#     )\n",
    "    \n",
    "#     # Running a Monte Carlo simulation to forecast cumulative returns\n",
    "#     np.random.seed(100)\n",
    "    \n",
    "#     plan.calc_cumulative_return()\n",
    "    \n",
    "#     # Plot simulation outcomes\n",
    "#     line_plot_plan = plan.plot_simulation()  \n",
    "#     # Plot probability distribution and confidence intervals\n",
    "#     dist_plot_plan = plan.plot_distribution()\n",
    "    \n",
    "#     # Fetch summary statistics from the Monte Carlo simulation results\n",
    "#     plan_summary = plan.summarize_cumulative_return()\n",
    "        \n",
    "#     #Print summary statistics\n",
    "#     #print(plan_summary)\n",
    "    \n",
    "#     # Use the lower and upper `95%` confidence intervals to calculate the range of the possible outcomes of an initial investment\n",
    "#     ci_lower1 = plan_summary[8]*initial_investment\n",
    "#     ci_upper1 = plan_summary[9]*initial_investment\n",
    "    \n",
    "#     print(f\"There is a 95% chance that an initial investment of ${initial_investment:,.2f} in the portfolio\"\n",
    "#       f\" over the next {years} year(s) will end within in the range of\"\n",
    "#       f\" ${ci_lower1:,.2f} and ${ci_upper1:,.2f}\")\n",
    "    \n",
    "#     return plan"
   ]
  },
  {
   "cell_type": "code",
   "execution_count": null,
   "id": "2ebb79c8-1f9d-44ca-97f5-4e83a7c678d2",
   "metadata": {},
   "outputs": [],
   "source": []
  },
  {
   "cell_type": "markdown",
   "id": "95ece5fa-24b8-492b-834f-8445db7773d7",
   "metadata": {},
   "source": [
    "# Compare Returns"
   ]
  },
  {
   "cell_type": "code",
   "execution_count": 462,
   "id": "41260920-a152-4d95-929f-8bb83edd6ea2",
   "metadata": {},
   "outputs": [
    {
     "name": "stdout",
     "output_type": "stream",
     "text": [
      "There is a 95% chance that an initial investment of $10,000.00 in the portfolio over the next 1 year(s) will end within in the range of $11,478.69 and $15,960.22\n"
     ]
    }
   ],
   "source": [
    "row1=pn.Column(plan_print_summary(data=new_combinedData_ml, weights = stock_only, years = 1, investment = 10000))\n",
    "#row2=pn.Row(line_plot(data=new_combinedData_ml, weights = stock_only, years = 1, investment = 10000))\n",
    "#row2.append(bar_plot(data=new_combinedData_ml, weights = stock_only, years = 1, investment = 10000))\n",
    "plots_of_column = pn.Column(row1,row2)"
   ]
  },
  {
   "cell_type": "code",
   "execution_count": null,
   "id": "e6e959a4-b72b-4ff6-970a-84906a862a55",
   "metadata": {},
   "outputs": [],
   "source": [
    "new_fin_planner_plot_line(data=new_combinedData_ml, weights = stock_only, years = 1, investment = 10000)"
   ]
  },
  {
   "cell_type": "code",
   "execution_count": null,
   "id": "c726c8d2-d29a-4910-8fb4-2608fae5d2f7",
   "metadata": {},
   "outputs": [],
   "source": [
    "dashboard_title = '#Portfolio Optimizer'"
   ]
  },
  {
   "cell_type": "code",
   "execution_count": null,
   "id": "2e3e0665-7712-499a-931c-c66d9f0ebb2c",
   "metadata": {},
   "outputs": [],
   "source": [
    "# Define a welcome text\n",
    "dashboard_desc = \"This Dashboard presents a visual analysis of historical values, dwelling types categorized in terms of costs and neighbourhoods in Toronto, ON, according to the census data from 2001 to 2016. You can navigate through the tabls above to explore more details about the evolution of the real estate market across these years.\""
   ]
  },
  {
   "cell_type": "code",
   "execution_count": null,
   "id": "c97c5123-cae1-42ac-885b-36ec00bbfc46",
   "metadata": {},
   "outputs": [],
   "source": [
    "dashboard_tabs = pn.Tabs(\n",
    "    (\"Welcome\", plots_of_column),#, plot_map),\n",
    "    (\"Yearly Market Analysis\"),#, plots_of_column),\n",
    "    (\"Shelter Costs vs Housing Value\"),#, plots_of_column2),\n",
    "    (\"Neighbourhood Analysis\"),#,  plots_combined),\n",
    "    (\"Top Expensive Neighbourhoods\"),#, row_of_bar9)\n",
    ")"
   ]
  },
  {
   "cell_type": "code",
   "execution_count": 374,
   "id": "8931ff42-bb8f-4041-a534-761f37093c06",
   "metadata": {},
   "outputs": [
    {
     "data": {},
     "metadata": {},
     "output_type": "display_data"
    },
    {
     "data": {
      "application/vnd.holoviews_exec.v0+json": "",
      "text/html": [
       "<div id='1074'>\n",
       "\n",
       "\n",
       "\n",
       "\n",
       "\n",
       "  <div class=\"bk-root\" id=\"f849a2e3-9a64-4880-918d-d5a3e728d0ad\" data-root-id=\"1074\"></div>\n",
       "</div>\n",
       "<script type=\"application/javascript\">(function(root) {\n",
       "  function embed_document(root) {\n",
       "    var docs_json = {\"b11e84da-6489-4f10-b8d0-e1885ca156c4\":{\"defs\":[{\"extends\":null,\"module\":null,\"name\":\"ReactiveHTML1\",\"overrides\":[],\"properties\":[]},{\"extends\":null,\"module\":null,\"name\":\"FlexBox1\",\"overrides\":[],\"properties\":[{\"default\":\"flex-start\",\"kind\":null,\"name\":\"align_content\"},{\"default\":\"flex-start\",\"kind\":null,\"name\":\"align_items\"},{\"default\":\"row\",\"kind\":null,\"name\":\"flex_direction\"},{\"default\":\"wrap\",\"kind\":null,\"name\":\"flex_wrap\"},{\"default\":\"flex-start\",\"kind\":null,\"name\":\"justify_content\"}]},{\"extends\":null,\"module\":null,\"name\":\"TemplateActions1\",\"overrides\":[],\"properties\":[{\"default\":0,\"kind\":null,\"name\":\"open_modal\"},{\"default\":0,\"kind\":null,\"name\":\"close_modal\"}]},{\"extends\":null,\"module\":null,\"name\":\"MaterialTemplateActions1\",\"overrides\":[],\"properties\":[{\"default\":0,\"kind\":null,\"name\":\"open_modal\"},{\"default\":0,\"kind\":null,\"name\":\"close_modal\"}]}],\"roots\":{\"references\":[{\"attributes\":{\"child\":{\"id\":\"1084\"},\"name\":\"Markdown00286\",\"title\":\"Markdown\"},\"id\":\"1085\",\"type\":\"Panel\"},{\"attributes\":{\"margin\":[5,5,5,5],\"name\":\"Str00280\"},\"id\":\"1080\",\"type\":\"panel.models.markup.HTML\"},{\"attributes\":{\"child\":{\"id\":\"1078\"},\"name\":\"Column00283\",\"title\":\"Welcome\"},\"id\":\"1081\",\"type\":\"Panel\"},{\"attributes\":{\"active\":2,\"margin\":[0,0,0,0],\"tabs\":[{\"id\":\"1081\"},{\"id\":\"1083\"},{\"id\":\"1085\"},{\"id\":\"1087\"},{\"id\":\"1089\"}]},\"id\":\"1077\",\"type\":\"Tabs\"},{\"attributes\":{\"child\":{\"id\":\"1088\"},\"name\":\"Markdown00290\",\"title\":\"Markdown\"},\"id\":\"1089\",\"type\":\"Panel\"},{\"attributes\":{\"children\":[{\"id\":\"1079\"}],\"margin\":[0,0,0,0],\"name\":\"Column00283\"},\"id\":\"1078\",\"type\":\"Column\"},{\"attributes\":{\"css_classes\":[\"markdown\"],\"margin\":[5,5,5,5],\"name\":\"Markdown00364\",\"text\":\"&lt;h1&gt;Portfolio Optimizer&lt;/h1&gt;\"},\"id\":\"1076\",\"type\":\"panel.models.markup.HTML\"},{\"attributes\":{\"css_classes\":[\"markdown\"],\"margin\":[5,5,5,5],\"name\":\"Markdown00290\",\"text\":\"&lt;p&gt;Top Expensive Neighbourhoods&lt;/p&gt;\"},\"id\":\"1088\",\"type\":\"panel.models.markup.HTML\"},{\"attributes\":{\"child\":{\"id\":\"1086\"},\"name\":\"Markdown00288\",\"title\":\"Markdown\"},\"id\":\"1087\",\"type\":\"Panel\"},{\"attributes\":{\"children\":[{\"id\":\"1075\"}],\"margin\":[0,0,0,0],\"name\":\"Row00367\"},\"id\":\"1074\",\"type\":\"Row\"},{\"attributes\":{\"children\":[{\"id\":\"1076\"},{\"id\":\"1077\"}],\"margin\":[0,0,0,0],\"name\":\"Column00366\"},\"id\":\"1075\",\"type\":\"Column\"},{\"attributes\":{\"child\":{\"id\":\"1082\"},\"name\":\"Markdown00284\",\"title\":\"Markdown\"},\"id\":\"1083\",\"type\":\"Panel\"},{\"attributes\":{\"css_classes\":[\"markdown\"],\"margin\":[5,5,5,5],\"name\":\"Markdown00288\",\"text\":\"&lt;p&gt;Neighbourhood Analysis&lt;/p&gt;\"},\"id\":\"1086\",\"type\":\"panel.models.markup.HTML\"},{\"attributes\":{\"children\":[{\"id\":\"1080\"}],\"margin\":[0,0,0,0],\"name\":\"Row00282\"},\"id\":\"1079\",\"type\":\"Row\"},{\"attributes\":{\"reload\":false},\"id\":\"1091\",\"type\":\"panel.models.location.Location\"},{\"attributes\":{\"css_classes\":[\"markdown\"],\"margin\":[5,5,5,5],\"name\":\"Markdown00284\",\"text\":\"&lt;p&gt;Yearly Market Analysis&lt;/p&gt;\"},\"id\":\"1082\",\"type\":\"panel.models.markup.HTML\"},{\"attributes\":{\"client_comm_id\":\"2cfe026309c8486b8b62af3ffd60fd7a\",\"comm_id\":\"6781f22835464ccc93a4b3a67c6552e7\",\"plot_id\":\"1074\"},\"id\":\"1090\",\"type\":\"panel.models.comm_manager.CommManager\"},{\"attributes\":{\"css_classes\":[\"markdown\"],\"margin\":[5,5,5,5],\"name\":\"Markdown00286\",\"text\":\"&lt;p&gt;Shelter Costs vs Housing Value&lt;/p&gt;\"},\"id\":\"1084\",\"type\":\"panel.models.markup.HTML\"}],\"root_ids\":[\"1074\",\"1090\",\"1091\"]},\"title\":\"Bokeh Application\",\"version\":\"2.3.3\"}};\n",
       "    var render_items = [{\"docid\":\"b11e84da-6489-4f10-b8d0-e1885ca156c4\",\"root_ids\":[\"1074\"],\"roots\":{\"1074\":\"f849a2e3-9a64-4880-918d-d5a3e728d0ad\"}}];\n",
       "    root.Bokeh.embed.embed_items_notebook(docs_json, render_items);\n",
       "  }\n",
       "  if (root.Bokeh !== undefined && root.Bokeh.Panel !== undefined && ( root['Plotly'] !== undefined)) {\n",
       "    embed_document(root);\n",
       "  } else {\n",
       "    var attempts = 0;\n",
       "    var timer = setInterval(function(root) {\n",
       "      if (root.Bokeh !== undefined && root.Bokeh.Panel !== undefined && (root['Plotly'] !== undefined)) {\n",
       "        clearInterval(timer);\n",
       "        embed_document(root);\n",
       "      } else if (document.readyState == \"complete\") {\n",
       "        attempts++;\n",
       "        if (attempts > 200) {\n",
       "          clearInterval(timer);\n",
       "          console.log(\"Bokeh: ERROR: Unable to run BokehJS code because BokehJS library is missing\");\n",
       "        }\n",
       "      }\n",
       "    }, 25, root)\n",
       "  }\n",
       "})(window);</script>"
      ],
      "text/plain": [
       "Row\n",
       "    [0] Column\n",
       "        [0] Markdown(str)\n",
       "        [1] Tabs(active=2)\n",
       "            [0] Column\n",
       "                [0] Row\n",
       "                    [0] Str(None)\n",
       "            [1] Markdown(str)\n",
       "            [2] Markdown(str)\n",
       "            [3] Markdown(str)\n",
       "            [4] Markdown(str)"
      ]
     },
     "execution_count": 374,
     "metadata": {
      "application/vnd.holoviews_exec.v0+json": {
       "id": "1074"
      }
     },
     "output_type": "execute_result"
    }
   ],
   "source": [
    "# Create the main dashboard\n",
    "dashboard = pn.Row(pn.Column(dashboard_title, dashboard_tabs))\n",
    "                   \n",
    "dashboard"
   ]
  },
  {
   "cell_type": "code",
   "execution_count": null,
   "id": "283429d2-1141-4aec-b690-e37cf4ef639a",
   "metadata": {},
   "outputs": [],
   "source": []
  }
 ],
 "metadata": {
  "kernelspec": {
   "display_name": "Python 3 (ipykernel)",
   "language": "python",
   "name": "python3"
  },
  "language_info": {
   "codemirror_mode": {
    "name": "ipython",
    "version": 3
   },
   "file_extension": ".py",
   "mimetype": "text/x-python",
   "name": "python",
   "nbconvert_exporter": "python",
   "pygments_lexer": "ipython3",
   "version": "3.7.11"
  }
 },
 "nbformat": 4,
 "nbformat_minor": 5
}
